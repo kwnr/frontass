{
 "cells": [
  {
   "cell_type": "code",
   "execution_count": 2,
   "metadata": {},
   "outputs": [
    {
     "ename": "ModuleNotFoundError",
     "evalue": "No module named 'rclpy'",
     "output_type": "error",
     "traceback": [
      "\u001b[0;31m---------------------------------------------------------------------------\u001b[0m",
      "\u001b[0;31mModuleNotFoundError\u001b[0m                       Traceback (most recent call last)",
      "Cell \u001b[0;32mIn[2], line 1\u001b[0m\n\u001b[0;32m----> 1\u001b[0m \u001b[38;5;28;01mimport\u001b[39;00m \u001b[38;5;21;01mrclpy\u001b[39;00m\n\u001b[1;32m      2\u001b[0m \u001b[38;5;28;01mfrom\u001b[39;00m \u001b[38;5;21;01mrclpy\u001b[39;00m\u001b[38;5;21;01m.\u001b[39;00m\u001b[38;5;21;01mnode\u001b[39;00m \u001b[38;5;28;01mimport\u001b[39;00m Node\n",
      "\u001b[0;31mModuleNotFoundError\u001b[0m: No module named 'rclpy'"
     ]
    }
   ],
   "source": [
    "import rclpy\n",
    "from rclpy.node import Node"
   ]
  },
  {
   "cell_type": "code",
   "execution_count": 5,
   "metadata": {},
   "outputs": [
    {
     "data": {
      "text/plain": [
       "environ{'BAMF_DESKTOP_FILE_HINT': '/var/lib/snapd/desktop/applications/code_code.desktop',\n",
       "        'CHROME_DESKTOP': 'code-url-handler.desktop',\n",
       "        'DBUS_SESSION_BUS_ADDRESS': 'unix:path=/run/user/1000/bus',\n",
       "        'DESKTOP_SESSION': 'ubuntu',\n",
       "        'DISPLAY': ':0',\n",
       "        'ELECTRON_NO_ATTACH_CONSOLE': '1',\n",
       "        'GDK_BACKEND': 'x11',\n",
       "        'GDK_PIXBUF_MODULEDIR': '/snap/code/157/usr/lib/x86_64-linux-gnu/gdk-pixbuf-2.0/2.10.0/loaders',\n",
       "        'GDK_PIXBUF_MODULE_FILE': '/home/kwnr/snap/code/common/.cache/gdk-pixbuf-loaders.cache',\n",
       "        'GDMSESSION': 'ubuntu',\n",
       "        'GIO_LAUNCHED_DESKTOP_FILE': '/var/lib/snapd/desktop/applications/code_code.desktop',\n",
       "        'GIO_LAUNCHED_DESKTOP_FILE_PID': '45493',\n",
       "        'GIO_MODULE_DIR': '/home/kwnr/snap/code/common/.cache/gio-modules',\n",
       "        'GJS_DEBUG_OUTPUT': 'stderr',\n",
       "        'GJS_DEBUG_TOPICS': 'JS ERROR;JS LOG',\n",
       "        'GNOME_DESKTOP_SESSION_ID': 'this-is-deprecated',\n",
       "        'GNOME_SETUP_DISPLAY': ':1',\n",
       "        'GNOME_SHELL_SESSION_MODE': 'ubuntu',\n",
       "        'GSETTINGS_SCHEMA_DIR': '/home/kwnr/snap/code/157/.local/share/glib-2.0/schemas',\n",
       "        'GTK_EXE_PREFIX': '/snap/code/157/usr',\n",
       "        'GTK_IM_MODULE_FILE': '/home/kwnr/snap/code/common/.cache/immodules/immodules.cache',\n",
       "        'GTK_MODULES': 'gail:atk-bridge',\n",
       "        'GTK_PATH': '/snap/code/157/usr/lib/x86_64-linux-gnu/gtk-3.0',\n",
       "        'HOME': '/home/kwnr',\n",
       "        'IM_CONFIG_CHECK_ENV': '1',\n",
       "        'IM_CONFIG_PHASE': '1',\n",
       "        'INVOCATION_ID': 'bb73267d82c9440bbd03a457c33ccc17',\n",
       "        'JOURNAL_STREAM': '8:24130',\n",
       "        'LANG': 'en_US.UTF-8',\n",
       "        'LC_ADDRESS': 'ko_KR.UTF-8',\n",
       "        'LC_IDENTIFICATION': 'ko_KR.UTF-8',\n",
       "        'LC_MEASUREMENT': 'ko_KR.UTF-8',\n",
       "        'LC_MONETARY': 'ko_KR.UTF-8',\n",
       "        'LC_NAME': 'ko_KR.UTF-8',\n",
       "        'LC_NUMERIC': 'ko_KR.UTF-8',\n",
       "        'LC_PAPER': 'ko_KR.UTF-8',\n",
       "        'LC_TELEPHONE': 'ko_KR.UTF-8',\n",
       "        'LC_TIME': 'ko_KR.UTF-8',\n",
       "        'LESSCLOSE': '/usr/bin/lesspipe %s %s',\n",
       "        'LESSOPEN': '| /usr/bin/lesspipe %s',\n",
       "        'LOCPATH': '/snap/code/157/usr/lib/locale',\n",
       "        'LOGNAME': 'kwnr',\n",
       "        'MANAGERPID': '891',\n",
       "        'ORIGINAL_XDG_CURRENT_DESKTOP': 'ubuntu:GNOME',\n",
       "        'PATH': '/bin:/home/kwnr/.local/bin:/usr/local/sbin:/usr/local/bin:/usr/sbin:/usr/bin:/sbin:/bin:/usr/games:/usr/local/games:/snap/bin:/snap/bin:/usr/local/sbin:/usr/local/bin:/usr/sbin:/usr/bin:/sbin:/bin:/usr/games:/usr/local/games:/snap/bin:/snap/bin',\n",
       "        'PWD': '/home/kwnr',\n",
       "        'QT_ACCESSIBILITY': '1',\n",
       "        'QT_IM_MODULE': 'ibus',\n",
       "        'SESSION_MANAGER': 'local/kwnr-NUC12:@/tmp/.ICE-unix/1020,unix/kwnr-NUC12:/tmp/.ICE-unix/1020',\n",
       "        'SHELL': '/bin/bash',\n",
       "        'SHLVL': '0',\n",
       "        'SNAP': '/snap/code/157',\n",
       "        'SNAP_ARCH': 'amd64',\n",
       "        'SNAP_COMMON': '/var/snap/code/common',\n",
       "        'SNAP_CONTEXT': 'rhnx9VlIoFzT4K8bnRxsg5Htc_AWVcSA5XOHi8mk33RXuBksEv28',\n",
       "        'SNAP_COOKIE': 'rhnx9VlIoFzT4K8bnRxsg5Htc_AWVcSA5XOHi8mk33RXuBksEv28',\n",
       "        'SNAP_DATA': '/var/snap/code/157',\n",
       "        'SNAP_EUID': '1000',\n",
       "        'SNAP_INSTANCE_NAME': 'code',\n",
       "        'SNAP_LAUNCHER_ARCH_TRIPLET': 'x86_64-linux-gnu',\n",
       "        'SNAP_LIBRARY_PATH': '/var/lib/snapd/lib/gl:/var/lib/snapd/lib/gl32:/var/lib/snapd/void',\n",
       "        'SNAP_NAME': 'code',\n",
       "        'SNAP_REAL_HOME': '/home/kwnr',\n",
       "        'SNAP_REVISION': '157',\n",
       "        'SNAP_UID': '1000',\n",
       "        'SNAP_USER_COMMON': '/home/kwnr/snap/code/common',\n",
       "        'SNAP_USER_DATA': '/home/kwnr/snap/code/157',\n",
       "        'SNAP_VERSION': 'e170252f',\n",
       "        'SSH_AGENT_LAUNCHER': 'gnome-keyring',\n",
       "        'SSH_AUTH_SOCK': '/run/user/1000/keyring/ssh',\n",
       "        'SYSTEMD_EXEC_PID': '1056',\n",
       "        'USER': 'kwnr',\n",
       "        'USERNAME': 'kwnr',\n",
       "        'VSCODE_AMD_ENTRYPOINT': 'vs/workbench/api/node/extensionHostProcess',\n",
       "        'VSCODE_CLI': '1',\n",
       "        'VSCODE_CODE_CACHE_PATH': '/home/kwnr/.config/Code/CachedData/e170252f762678dec6ca2cc69aba1570769a5d39',\n",
       "        'VSCODE_CRASH_REPORTER_PROCESS_TYPE': 'extensionHost',\n",
       "        'VSCODE_CWD': '/home/kwnr',\n",
       "        'VSCODE_HANDLES_UNCAUGHT_ERRORS': 'true',\n",
       "        'VSCODE_IPC_HOOK': '/run/user/1000/vscode-44a2ccf8-1.88-main.sock',\n",
       "        'VSCODE_NLS_CONFIG': '{\"locale\":\"en\",\"osLocale\":\"en-us\",\"availableLanguages\":{},\"_languagePackSupport\":true}',\n",
       "        'VSCODE_PID': '45538',\n",
       "        'WAYLAND_DISPLAY': 'wayland-0',\n",
       "        'XAUTHORITY': '/run/user/1000/.mutter-Xwaylandauth.PWQ2L2',\n",
       "        'XDG_CONFIG_DIRS': '/etc/xdg/xdg-ubuntu:/etc/xdg',\n",
       "        'XDG_CONFIG_DIRS_VSCODE_SNAP_ORIG': '/etc/xdg/xdg-ubuntu:/etc/xdg',\n",
       "        'XDG_CURRENT_DESKTOP': 'Unity',\n",
       "        'XDG_DATA_DIRS': '/home/kwnr/snap/code/157/.local/share:/home/kwnr/snap/code/157:/snap/code/157/usr/share:/usr/share/ubuntu:/usr/local/share/:/usr/share/:/var/lib/snapd/desktop',\n",
       "        'XDG_DATA_DIRS_VSCODE_SNAP_ORIG': '/usr/share/ubuntu:/usr/local/share/:/usr/share/:/var/lib/snapd/desktop',\n",
       "        'XDG_MENU_PREFIX': 'gnome-',\n",
       "        'XDG_RUNTIME_DIR': '/run/user/1000',\n",
       "        'XDG_SESSION_CLASS': 'user',\n",
       "        'XDG_SESSION_DESKTOP': 'ubuntu',\n",
       "        'XDG_SESSION_TYPE': 'wayland',\n",
       "        'XMODIFIERS': '@im=ibus',\n",
       "        '_': '/snap/code/157/usr/share/code/code',\n",
       "        'ELECTRON_RUN_AS_NODE': '1',\n",
       "        'APPLICATION_INSIGHTS_NO_DIAGNOSTIC_CHANNEL': '1',\n",
       "        'VSCODE_L10N_BUNDLE_LOCATION': '',\n",
       "        'PYDEVD_IPYTHON_COMPATIBLE_DEBUGGING': '1',\n",
       "        'PYTHONUNBUFFERED': '1',\n",
       "        'PYTHONIOENCODING': 'utf-8',\n",
       "        'PYDEVD_USE_FRAME_EVAL': 'NO',\n",
       "        'TERM': 'xterm-color',\n",
       "        'CLICOLOR': '1',\n",
       "        'FORCE_COLOR': '1',\n",
       "        'CLICOLOR_FORCE': '1',\n",
       "        'PAGER': 'cat',\n",
       "        'GIT_PAGER': 'cat',\n",
       "        'MPLBACKEND': 'module://matplotlib_inline.backend_inline'}"
      ]
     },
     "execution_count": 5,
     "metadata": {},
     "output_type": "execute_result"
    }
   ],
   "source": [
    "import os\n",
    "os.environ"
   ]
  },
  {
   "cell_type": "code",
   "execution_count": null,
   "metadata": {},
   "outputs": [],
   "source": []
  }
 ],
 "metadata": {
  "kernelspec": {
   "display_name": "Python 3",
   "language": "python",
   "name": "python3"
  },
  "language_info": {
   "codemirror_mode": {
    "name": "ipython",
    "version": 3
   },
   "file_extension": ".py",
   "mimetype": "text/x-python",
   "name": "python",
   "nbconvert_exporter": "python",
   "pygments_lexer": "ipython3",
   "version": "3.10.12"
  }
 },
 "nbformat": 4,
 "nbformat_minor": 2
}
